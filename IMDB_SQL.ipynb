{
  "nbformat": 4,
  "nbformat_minor": 0,
  "metadata": {
    "colab": {
      "name": "IMDB SQL.ipynb",
      "provenance": [],
      "collapsed_sections": [],
      "machine_shape": "hm"
    },
    "kernelspec": {
      "name": "python3",
      "display_name": "Python 3"
    },
    "accelerator": "GPU"
  },
  "cells": [
    {
      "cell_type": "markdown",
      "metadata": {
        "id": "xrGU-PXzR0JN",
        "colab_type": "text"
      },
      "source": [
        "# Mounting the drive"
      ]
    },
    {
      "cell_type": "code",
      "metadata": {
        "id": "4cV0pTtgRzix",
        "colab_type": "code",
        "colab": {}
      },
      "source": [
        "!kill -9 -1"
      ],
      "execution_count": 0,
      "outputs": []
    },
    {
      "cell_type": "code",
      "metadata": {
        "id": "e1ErGsd9SUm-",
        "colab_type": "code",
        "outputId": "f6e2413d-711b-4406-b8de-d6526f5260c0",
        "colab": {
          "base_uri": "https://localhost:8080/",
          "height": 34
        }
      },
      "source": [
        "from google.colab import drive\n",
        "drive.mount('/content/drive')"
      ],
      "execution_count": 1,
      "outputs": [
        {
          "output_type": "stream",
          "text": [
            "Mounted at /content/drive\n"
          ],
          "name": "stdout"
        }
      ]
    },
    {
      "cell_type": "code",
      "metadata": {
        "id": "Kja3wqOhSVen",
        "colab_type": "code",
        "outputId": "4cd4b418-74b2-4330-ec32-de3c5c13f42e",
        "colab": {
          "base_uri": "https://localhost:8080/",
          "height": 50
        }
      },
      "source": [
        "!pwd\n",
        "!ls"
      ],
      "execution_count": 2,
      "outputs": [
        {
          "output_type": "stream",
          "text": [
            "/content\n",
            "drive  sample_data\n"
          ],
          "name": "stdout"
        }
      ]
    },
    {
      "cell_type": "code",
      "metadata": {
        "id": "UO13DJ1fSVbj",
        "colab_type": "code",
        "outputId": "b509e8aa-be0d-4930-c817-17681fe64278",
        "colab": {
          "base_uri": "https://localhost:8080/",
          "height": 34
        }
      },
      "source": [
        "import os\n",
        "PATH = os.getcwd()\n",
        "print(PATH)"
      ],
      "execution_count": 3,
      "outputs": [
        {
          "output_type": "stream",
          "text": [
            "/content\n"
          ],
          "name": "stdout"
        }
      ]
    },
    {
      "cell_type": "code",
      "metadata": {
        "id": "IEYbaMMMSVWJ",
        "colab_type": "code",
        "outputId": "9fafb01b-055e-4cdf-c2e6-06cfc1553cb3",
        "colab": {
          "base_uri": "https://localhost:8080/",
          "height": 34
        }
      },
      "source": [
        "data_path = PATH + '/drive/My Drive/AAIC/Case Studies/SQL/'\n",
        "data_path"
      ],
      "execution_count": 4,
      "outputs": [
        {
          "output_type": "execute_result",
          "data": {
            "text/plain": [
              "'/content/drive/My Drive/AAIC/Case Studies/SQL/'"
            ]
          },
          "metadata": {
            "tags": []
          },
          "execution_count": 4
        }
      ]
    },
    {
      "cell_type": "code",
      "metadata": {
        "id": "f8fL4BHg8IVY",
        "colab_type": "code",
        "colab": {}
      },
      "source": [
        "import warnings\n",
        "warnings.filterwarnings(\"ignore\")\n",
        "import pandas as pd\n",
        "import sqlite3"
      ],
      "execution_count": 0,
      "outputs": []
    },
    {
      "cell_type": "markdown",
      "metadata": {
        "id": "05IBxsQ47e8M",
        "colab_type": "text"
      },
      "source": [
        "### 1. List all the directors who directed a 'Comedy' movie in a leap year. (You need to check that the genre is 'Comedy’ and year is a leap year) Your query should return director name, the movie name, and the year."
      ]
    },
    {
      "cell_type": "code",
      "metadata": {
        "id": "nN4HsjDxDxVI",
        "colab_type": "code",
        "colab": {}
      },
      "source": [
        "conn = sqlite3.connect(data_path + \"Db-IMDB.db\")"
      ],
      "execution_count": 0,
      "outputs": []
    },
    {
      "cell_type": "code",
      "metadata": {
        "id": "mTvmy0ay6a5Z",
        "colab_type": "code",
        "outputId": "0ff39468-f543-46c2-9af9-bcad45106eb1",
        "colab": {
          "base_uri": "https://localhost:8080/",
          "height": 402
        }
      },
      "source": [
        "result = pd.read_sql_query(\"select distinct trim(p.name), m.title, m.year from movie m join M_Director md on m.mid=md.mid join M_Genre mg on m.mid=mg.mid\\\n",
        "                            join Genre g on mg.gid=g.gid join Person p on md.pid=p.pid where g.name like '%Comedy%' and\\\n",
        "                            ((m.year%4=0 and not m.year%100=0) or m.year%400=0);\", conn)\n",
        "result"
      ],
      "execution_count": 0,
      "outputs": [
        {
          "output_type": "execute_result",
          "data": {
            "text/html": [
              "<div>\n",
              "<style scoped>\n",
              "    .dataframe tbody tr th:only-of-type {\n",
              "        vertical-align: middle;\n",
              "    }\n",
              "\n",
              "    .dataframe tbody tr th {\n",
              "        vertical-align: top;\n",
              "    }\n",
              "\n",
              "    .dataframe thead th {\n",
              "        text-align: right;\n",
              "    }\n",
              "</style>\n",
              "<table border=\"1\" class=\"dataframe\">\n",
              "  <thead>\n",
              "    <tr style=\"text-align: right;\">\n",
              "      <th></th>\n",
              "      <th>trim(p.name)</th>\n",
              "      <th>title</th>\n",
              "      <th>year</th>\n",
              "    </tr>\n",
              "  </thead>\n",
              "  <tbody>\n",
              "    <tr>\n",
              "      <th>0</th>\n",
              "      <td>Milap Zaveri</td>\n",
              "      <td>Mastizaade</td>\n",
              "      <td>2016</td>\n",
              "    </tr>\n",
              "    <tr>\n",
              "      <th>1</th>\n",
              "      <td>Danny Leiner</td>\n",
              "      <td>Harold &amp; Kumar Go to White Castle</td>\n",
              "      <td>2004</td>\n",
              "    </tr>\n",
              "    <tr>\n",
              "      <th>2</th>\n",
              "      <td>Anurag Kashyap</td>\n",
              "      <td>Gangs of Wasseypur</td>\n",
              "      <td>2012</td>\n",
              "    </tr>\n",
              "    <tr>\n",
              "      <th>3</th>\n",
              "      <td>Frank Coraci</td>\n",
              "      <td>Around the World in 80 Days</td>\n",
              "      <td>2004</td>\n",
              "    </tr>\n",
              "    <tr>\n",
              "      <th>4</th>\n",
              "      <td>Griffin Dunne</td>\n",
              "      <td>The Accidental Husband</td>\n",
              "      <td>2008</td>\n",
              "    </tr>\n",
              "    <tr>\n",
              "      <th>...</th>\n",
              "      <td>...</td>\n",
              "      <td>...</td>\n",
              "      <td>...</td>\n",
              "    </tr>\n",
              "    <tr>\n",
              "      <th>241</th>\n",
              "      <td>Siddharth Anand Kumar</td>\n",
              "      <td>Let's Enjoy</td>\n",
              "      <td>2004</td>\n",
              "    </tr>\n",
              "    <tr>\n",
              "      <th>242</th>\n",
              "      <td>Amma Rajasekhar</td>\n",
              "      <td>Sathyam</td>\n",
              "      <td>2008</td>\n",
              "    </tr>\n",
              "    <tr>\n",
              "      <th>243</th>\n",
              "      <td>Oliver Paulus</td>\n",
              "      <td>Tandoori Love</td>\n",
              "      <td>2008</td>\n",
              "    </tr>\n",
              "    <tr>\n",
              "      <th>244</th>\n",
              "      <td>Raja Chanda</td>\n",
              "      <td>Le Halua Le</td>\n",
              "      <td>2012</td>\n",
              "    </tr>\n",
              "    <tr>\n",
              "      <th>245</th>\n",
              "      <td>K.S. Prakash Rao</td>\n",
              "      <td>Raja Aur Rangeeli</td>\n",
              "      <td>1996</td>\n",
              "    </tr>\n",
              "  </tbody>\n",
              "</table>\n",
              "<p>246 rows × 3 columns</p>\n",
              "</div>"
            ],
            "text/plain": [
              "              trim(p.name)                              title  year\n",
              "0             Milap Zaveri                         Mastizaade  2016\n",
              "1             Danny Leiner  Harold & Kumar Go to White Castle  2004\n",
              "2           Anurag Kashyap                 Gangs of Wasseypur  2012\n",
              "3             Frank Coraci        Around the World in 80 Days  2004\n",
              "4            Griffin Dunne             The Accidental Husband  2008\n",
              "..                     ...                                ...   ...\n",
              "241  Siddharth Anand Kumar                        Let's Enjoy  2004\n",
              "242        Amma Rajasekhar                            Sathyam  2008\n",
              "243          Oliver Paulus                      Tandoori Love  2008\n",
              "244            Raja Chanda                        Le Halua Le  2012\n",
              "245       K.S. Prakash Rao                  Raja Aur Rangeeli  1996\n",
              "\n",
              "[246 rows x 3 columns]"
            ]
          },
          "metadata": {
            "tags": []
          },
          "execution_count": 8
        }
      ]
    },
    {
      "cell_type": "markdown",
      "metadata": {
        "id": "Q7EE7FpLRWLx",
        "colab_type": "text"
      },
      "source": [
        "### 2. List the names of all the actors who played in the movie 'Anand' (1971)"
      ]
    },
    {
      "cell_type": "code",
      "metadata": {
        "id": "_5G6EmGt7yks",
        "colab_type": "code",
        "outputId": "4f97613f-e7f4-4a52-eee4-f0466a2231ba",
        "colab": {
          "base_uri": "https://localhost:8080/",
          "height": 550
        }
      },
      "source": [
        "result = pd.read_sql_query(\"select p.name from Person p join M_Cast mc on trim(p.pid)=trim(mc.pid) join movie m on mc.mid=m.mid where m.title='Anand';\",conn)\n",
        "result"
      ],
      "execution_count": 0,
      "outputs": [
        {
          "output_type": "execute_result",
          "data": {
            "text/html": [
              "<div>\n",
              "<style scoped>\n",
              "    .dataframe tbody tr th:only-of-type {\n",
              "        vertical-align: middle;\n",
              "    }\n",
              "\n",
              "    .dataframe tbody tr th {\n",
              "        vertical-align: top;\n",
              "    }\n",
              "\n",
              "    .dataframe thead th {\n",
              "        text-align: right;\n",
              "    }\n",
              "</style>\n",
              "<table border=\"1\" class=\"dataframe\">\n",
              "  <thead>\n",
              "    <tr style=\"text-align: right;\">\n",
              "      <th></th>\n",
              "      <th>Name</th>\n",
              "    </tr>\n",
              "  </thead>\n",
              "  <tbody>\n",
              "    <tr>\n",
              "      <th>0</th>\n",
              "      <td>Amitabh Bachchan</td>\n",
              "    </tr>\n",
              "    <tr>\n",
              "      <th>1</th>\n",
              "      <td>Rajesh Khanna</td>\n",
              "    </tr>\n",
              "    <tr>\n",
              "      <th>2</th>\n",
              "      <td>Sumita Sanyal</td>\n",
              "    </tr>\n",
              "    <tr>\n",
              "      <th>3</th>\n",
              "      <td>Ramesh Deo</td>\n",
              "    </tr>\n",
              "    <tr>\n",
              "      <th>4</th>\n",
              "      <td>Seema Deo</td>\n",
              "    </tr>\n",
              "    <tr>\n",
              "      <th>5</th>\n",
              "      <td>Asit Kumar Sen</td>\n",
              "    </tr>\n",
              "    <tr>\n",
              "      <th>6</th>\n",
              "      <td>Dev Kishan</td>\n",
              "    </tr>\n",
              "    <tr>\n",
              "      <th>7</th>\n",
              "      <td>Atam Prakash</td>\n",
              "    </tr>\n",
              "    <tr>\n",
              "      <th>8</th>\n",
              "      <td>Lalita Kumari</td>\n",
              "    </tr>\n",
              "    <tr>\n",
              "      <th>9</th>\n",
              "      <td>Savita</td>\n",
              "    </tr>\n",
              "    <tr>\n",
              "      <th>10</th>\n",
              "      <td>Brahm Bhardwaj</td>\n",
              "    </tr>\n",
              "    <tr>\n",
              "      <th>11</th>\n",
              "      <td>Gurnam Singh</td>\n",
              "    </tr>\n",
              "    <tr>\n",
              "      <th>12</th>\n",
              "      <td>Lalita Pawar</td>\n",
              "    </tr>\n",
              "    <tr>\n",
              "      <th>13</th>\n",
              "      <td>Durga Khote</td>\n",
              "    </tr>\n",
              "    <tr>\n",
              "      <th>14</th>\n",
              "      <td>Dara Singh</td>\n",
              "    </tr>\n",
              "    <tr>\n",
              "      <th>15</th>\n",
              "      <td>Johnny Walker</td>\n",
              "    </tr>\n",
              "    <tr>\n",
              "      <th>16</th>\n",
              "      <td>Moolchand</td>\n",
              "    </tr>\n",
              "  </tbody>\n",
              "</table>\n",
              "</div>"
            ],
            "text/plain": [
              "                 Name\n",
              "0    Amitabh Bachchan\n",
              "1       Rajesh Khanna\n",
              "2       Sumita Sanyal\n",
              "3          Ramesh Deo\n",
              "4           Seema Deo\n",
              "5      Asit Kumar Sen\n",
              "6          Dev Kishan\n",
              "7        Atam Prakash\n",
              "8       Lalita Kumari\n",
              "9              Savita\n",
              "10     Brahm Bhardwaj\n",
              "11       Gurnam Singh\n",
              "12       Lalita Pawar\n",
              "13        Durga Khote\n",
              "14         Dara Singh\n",
              "15      Johnny Walker\n",
              "16          Moolchand"
            ]
          },
          "metadata": {
            "tags": []
          },
          "execution_count": 7
        }
      ]
    },
    {
      "cell_type": "markdown",
      "metadata": {
        "id": "akAGGoXDvV68",
        "colab_type": "text"
      },
      "source": [
        "### 3. List all the actors who acted in a film before 1970 and in a film after 1990. (That is: < 1970 and > 1990.)"
      ]
    },
    {
      "cell_type": "code",
      "metadata": {
        "id": "Ujy1l_ccUZmX",
        "colab_type": "code",
        "outputId": "adb40599-e010-4d54-a87c-44bb788c82d3",
        "colab": {
          "base_uri": "https://localhost:8080/",
          "height": 402
        }
      },
      "source": [
        "pd.read_sql_query(\"select distinct p.name from Person p where p.name in \\\n",
        "                  (select p2.name from Person p2 join M_Cast mc on p2.pid=trim(mc.pid)\\\n",
        "                  join Movie m on mc.mid=m.mid where m.year<1970) and\\\n",
        "                  p.name in (select p3.name from Person p3 join M_Cast mc2 on p3.pid=trim(mc2.pid)\\\n",
        "                  join Movie m2 on mc2.mid=m2.mid where m2.year>1990)\",conn)"
      ],
      "execution_count": 17,
      "outputs": [
        {
          "output_type": "execute_result",
          "data": {
            "text/html": [
              "<div>\n",
              "<style scoped>\n",
              "    .dataframe tbody tr th:only-of-type {\n",
              "        vertical-align: middle;\n",
              "    }\n",
              "\n",
              "    .dataframe tbody tr th {\n",
              "        vertical-align: top;\n",
              "    }\n",
              "\n",
              "    .dataframe thead th {\n",
              "        text-align: right;\n",
              "    }\n",
              "</style>\n",
              "<table border=\"1\" class=\"dataframe\">\n",
              "  <thead>\n",
              "    <tr style=\"text-align: right;\">\n",
              "      <th></th>\n",
              "      <th>Name</th>\n",
              "    </tr>\n",
              "  </thead>\n",
              "  <tbody>\n",
              "    <tr>\n",
              "      <th>0</th>\n",
              "      <td>Rishi Kapoor</td>\n",
              "    </tr>\n",
              "    <tr>\n",
              "      <th>1</th>\n",
              "      <td>Rajesh Kumar</td>\n",
              "    </tr>\n",
              "    <tr>\n",
              "      <th>2</th>\n",
              "      <td>Anand Tiwari</td>\n",
              "    </tr>\n",
              "    <tr>\n",
              "      <th>3</th>\n",
              "      <td>Amitabh Bachchan</td>\n",
              "    </tr>\n",
              "    <tr>\n",
              "      <th>4</th>\n",
              "      <td>Asrani</td>\n",
              "    </tr>\n",
              "    <tr>\n",
              "      <th>...</th>\n",
              "      <td>...</td>\n",
              "    </tr>\n",
              "    <tr>\n",
              "      <th>468</th>\n",
              "      <td>Vinod Mehra</td>\n",
              "    </tr>\n",
              "    <tr>\n",
              "      <th>469</th>\n",
              "      <td>Deven Verma</td>\n",
              "    </tr>\n",
              "    <tr>\n",
              "      <th>470</th>\n",
              "      <td>Master Bhagwan</td>\n",
              "    </tr>\n",
              "    <tr>\n",
              "      <th>471</th>\n",
              "      <td>Rishi Kapoor</td>\n",
              "    </tr>\n",
              "    <tr>\n",
              "      <th>472</th>\n",
              "      <td>Asrani</td>\n",
              "    </tr>\n",
              "  </tbody>\n",
              "</table>\n",
              "<p>473 rows × 1 columns</p>\n",
              "</div>"
            ],
            "text/plain": [
              "                  Name\n",
              "0         Rishi Kapoor\n",
              "1         Rajesh Kumar\n",
              "2         Anand Tiwari\n",
              "3     Amitabh Bachchan\n",
              "4               Asrani\n",
              "..                 ...\n",
              "468        Vinod Mehra\n",
              "469        Deven Verma\n",
              "470     Master Bhagwan\n",
              "471       Rishi Kapoor\n",
              "472             Asrani\n",
              "\n",
              "[473 rows x 1 columns]"
            ]
          },
          "metadata": {
            "tags": []
          },
          "execution_count": 17
        }
      ]
    },
    {
      "cell_type": "markdown",
      "metadata": {
        "id": "0lgUMO0FJ__a",
        "colab_type": "text"
      },
      "source": [
        "### 4. List all directors who directed 10 movies or more, in descending order of the number of movies they directed. Return the directors' names and the number of movies each of them directed."
      ]
    },
    {
      "cell_type": "code",
      "metadata": {
        "id": "5PmYEbP5UTFn",
        "colab_type": "code",
        "outputId": "4df8648f-79f3-41b9-b40e-e1a9a9f448be",
        "colab": {
          "base_uri": "https://localhost:8080/",
          "height": 1000
        }
      },
      "source": [
        "pd.read_sql_query(\"select distinct trim(p.name) as Names,count(p.name) name_count from Person p join M_Director md on p.pid=md.pid join movie m on md.mid=m.mid\\\n",
        "                  where p.pid in(select trim(pid) from M_Director group by trim(pid) having count(*)>=10) group by Names order by name_count desc\",conn)"
      ],
      "execution_count": 0,
      "outputs": [
        {
          "output_type": "execute_result",
          "data": {
            "text/html": [
              "<div>\n",
              "<style scoped>\n",
              "    .dataframe tbody tr th:only-of-type {\n",
              "        vertical-align: middle;\n",
              "    }\n",
              "\n",
              "    .dataframe tbody tr th {\n",
              "        vertical-align: top;\n",
              "    }\n",
              "\n",
              "    .dataframe thead th {\n",
              "        text-align: right;\n",
              "    }\n",
              "</style>\n",
              "<table border=\"1\" class=\"dataframe\">\n",
              "  <thead>\n",
              "    <tr style=\"text-align: right;\">\n",
              "      <th></th>\n",
              "      <th>Names</th>\n",
              "      <th>name_count</th>\n",
              "    </tr>\n",
              "  </thead>\n",
              "  <tbody>\n",
              "    <tr>\n",
              "      <th>0</th>\n",
              "      <td>David Dhawan</td>\n",
              "      <td>78</td>\n",
              "    </tr>\n",
              "    <tr>\n",
              "      <th>1</th>\n",
              "      <td>Mahesh Bhatt</td>\n",
              "      <td>70</td>\n",
              "    </tr>\n",
              "    <tr>\n",
              "      <th>2</th>\n",
              "      <td>Ram Gopal Varma</td>\n",
              "      <td>60</td>\n",
              "    </tr>\n",
              "    <tr>\n",
              "      <th>3</th>\n",
              "      <td>Vikram Bhatt</td>\n",
              "      <td>58</td>\n",
              "    </tr>\n",
              "    <tr>\n",
              "      <th>4</th>\n",
              "      <td>Hrishikesh Mukherjee</td>\n",
              "      <td>54</td>\n",
              "    </tr>\n",
              "    <tr>\n",
              "      <th>5</th>\n",
              "      <td>Yash Chopra</td>\n",
              "      <td>42</td>\n",
              "    </tr>\n",
              "    <tr>\n",
              "      <th>6</th>\n",
              "      <td>Basu Chatterjee</td>\n",
              "      <td>38</td>\n",
              "    </tr>\n",
              "    <tr>\n",
              "      <th>7</th>\n",
              "      <td>Shakti Samanta</td>\n",
              "      <td>38</td>\n",
              "    </tr>\n",
              "    <tr>\n",
              "      <th>8</th>\n",
              "      <td>Subhash Ghai</td>\n",
              "      <td>36</td>\n",
              "    </tr>\n",
              "    <tr>\n",
              "      <th>9</th>\n",
              "      <td>Abbas Alibhai Burmawalla</td>\n",
              "      <td>34</td>\n",
              "    </tr>\n",
              "    <tr>\n",
              "      <th>10</th>\n",
              "      <td>Shyam Benegal</td>\n",
              "      <td>34</td>\n",
              "    </tr>\n",
              "    <tr>\n",
              "      <th>11</th>\n",
              "      <td>Gulzar</td>\n",
              "      <td>32</td>\n",
              "    </tr>\n",
              "    <tr>\n",
              "      <th>12</th>\n",
              "      <td>Manmohan Desai</td>\n",
              "      <td>32</td>\n",
              "    </tr>\n",
              "    <tr>\n",
              "      <th>13</th>\n",
              "      <td>Raj N. Sippy</td>\n",
              "      <td>32</td>\n",
              "    </tr>\n",
              "    <tr>\n",
              "      <th>14</th>\n",
              "      <td>Mahesh Manjrekar</td>\n",
              "      <td>30</td>\n",
              "    </tr>\n",
              "    <tr>\n",
              "      <th>15</th>\n",
              "      <td>Priyadarshan</td>\n",
              "      <td>30</td>\n",
              "    </tr>\n",
              "    <tr>\n",
              "      <th>16</th>\n",
              "      <td>Raj Kanwar</td>\n",
              "      <td>30</td>\n",
              "    </tr>\n",
              "    <tr>\n",
              "      <th>17</th>\n",
              "      <td>Indra Kumar</td>\n",
              "      <td>28</td>\n",
              "    </tr>\n",
              "    <tr>\n",
              "      <th>18</th>\n",
              "      <td>Rahul Rawail</td>\n",
              "      <td>28</td>\n",
              "    </tr>\n",
              "    <tr>\n",
              "      <th>19</th>\n",
              "      <td>Raj Khosla</td>\n",
              "      <td>28</td>\n",
              "    </tr>\n",
              "    <tr>\n",
              "      <th>20</th>\n",
              "      <td>Rajkumar Santoshi</td>\n",
              "      <td>28</td>\n",
              "    </tr>\n",
              "    <tr>\n",
              "      <th>21</th>\n",
              "      <td>Ananth Narayan Mahadevan</td>\n",
              "      <td>26</td>\n",
              "    </tr>\n",
              "    <tr>\n",
              "      <th>22</th>\n",
              "      <td>Anurag Kashyap</td>\n",
              "      <td>26</td>\n",
              "    </tr>\n",
              "    <tr>\n",
              "      <th>23</th>\n",
              "      <td>Dev Anand</td>\n",
              "      <td>26</td>\n",
              "    </tr>\n",
              "    <tr>\n",
              "      <th>24</th>\n",
              "      <td>Harry Baweja</td>\n",
              "      <td>26</td>\n",
              "    </tr>\n",
              "    <tr>\n",
              "      <th>25</th>\n",
              "      <td>K. Raghavendra Rao</td>\n",
              "      <td>26</td>\n",
              "    </tr>\n",
              "    <tr>\n",
              "      <th>26</th>\n",
              "      <td>Rakesh Roshan</td>\n",
              "      <td>26</td>\n",
              "    </tr>\n",
              "    <tr>\n",
              "      <th>27</th>\n",
              "      <td>Vijay Anand</td>\n",
              "      <td>26</td>\n",
              "    </tr>\n",
              "    <tr>\n",
              "      <th>28</th>\n",
              "      <td>Anees Bazmee</td>\n",
              "      <td>24</td>\n",
              "    </tr>\n",
              "    <tr>\n",
              "      <th>29</th>\n",
              "      <td>Anil Sharma</td>\n",
              "      <td>24</td>\n",
              "    </tr>\n",
              "    <tr>\n",
              "      <th>30</th>\n",
              "      <td>Guddu Dhanoa</td>\n",
              "      <td>24</td>\n",
              "    </tr>\n",
              "    <tr>\n",
              "      <th>31</th>\n",
              "      <td>Madhur Bhandarkar</td>\n",
              "      <td>24</td>\n",
              "    </tr>\n",
              "    <tr>\n",
              "      <th>32</th>\n",
              "      <td>Nagesh Kukunoor</td>\n",
              "      <td>24</td>\n",
              "    </tr>\n",
              "    <tr>\n",
              "      <th>33</th>\n",
              "      <td>Prakash Jha</td>\n",
              "      <td>24</td>\n",
              "    </tr>\n",
              "    <tr>\n",
              "      <th>34</th>\n",
              "      <td>Prakash Mehra</td>\n",
              "      <td>24</td>\n",
              "    </tr>\n",
              "    <tr>\n",
              "      <th>35</th>\n",
              "      <td>Rohit Shetty</td>\n",
              "      <td>24</td>\n",
              "    </tr>\n",
              "    <tr>\n",
              "      <th>36</th>\n",
              "      <td>Satish Kaushik</td>\n",
              "      <td>24</td>\n",
              "    </tr>\n",
              "    <tr>\n",
              "      <th>37</th>\n",
              "      <td>Umesh Mehra</td>\n",
              "      <td>24</td>\n",
              "    </tr>\n",
              "    <tr>\n",
              "      <th>38</th>\n",
              "      <td>Govind Nihalani</td>\n",
              "      <td>22</td>\n",
              "    </tr>\n",
              "    <tr>\n",
              "      <th>39</th>\n",
              "      <td>Ketan Mehta</td>\n",
              "      <td>22</td>\n",
              "    </tr>\n",
              "    <tr>\n",
              "      <th>40</th>\n",
              "      <td>Mohit Suri</td>\n",
              "      <td>22</td>\n",
              "    </tr>\n",
              "    <tr>\n",
              "      <th>41</th>\n",
              "      <td>Nasir Hussain</td>\n",
              "      <td>22</td>\n",
              "    </tr>\n",
              "    <tr>\n",
              "      <th>42</th>\n",
              "      <td>Pramod Chakravorty</td>\n",
              "      <td>22</td>\n",
              "    </tr>\n",
              "    <tr>\n",
              "      <th>43</th>\n",
              "      <td>Sanjay Gupta</td>\n",
              "      <td>22</td>\n",
              "    </tr>\n",
              "    <tr>\n",
              "      <th>44</th>\n",
              "      <td>Bimal Roy</td>\n",
              "      <td>20</td>\n",
              "    </tr>\n",
              "    <tr>\n",
              "      <th>45</th>\n",
              "      <td>Hansal Mehta</td>\n",
              "      <td>20</td>\n",
              "    </tr>\n",
              "    <tr>\n",
              "      <th>46</th>\n",
              "      <td>J. Om Prakash</td>\n",
              "      <td>20</td>\n",
              "    </tr>\n",
              "    <tr>\n",
              "      <th>47</th>\n",
              "      <td>J.P. Dutta</td>\n",
              "      <td>20</td>\n",
              "    </tr>\n",
              "    <tr>\n",
              "      <th>48</th>\n",
              "      <td>Mehul Kumar</td>\n",
              "      <td>20</td>\n",
              "    </tr>\n",
              "    <tr>\n",
              "      <th>49</th>\n",
              "      <td>N. Chandra</td>\n",
              "      <td>20</td>\n",
              "    </tr>\n",
              "    <tr>\n",
              "      <th>50</th>\n",
              "      <td>Raj Kapoor</td>\n",
              "      <td>20</td>\n",
              "    </tr>\n",
              "    <tr>\n",
              "      <th>51</th>\n",
              "      <td>Sudhir Mishra</td>\n",
              "      <td>20</td>\n",
              "    </tr>\n",
              "    <tr>\n",
              "      <th>52</th>\n",
              "      <td>Tigmanshu Dhulia</td>\n",
              "      <td>20</td>\n",
              "    </tr>\n",
              "    <tr>\n",
              "      <th>53</th>\n",
              "      <td>Vishal Bhardwaj</td>\n",
              "      <td>20</td>\n",
              "    </tr>\n",
              "    <tr>\n",
              "      <th>54</th>\n",
              "      <td>Rama Rao Tatineni</td>\n",
              "      <td>17</td>\n",
              "    </tr>\n",
              "    <tr>\n",
              "      <th>55</th>\n",
              "      <td>K. Bapaiah</td>\n",
              "      <td>10</td>\n",
              "    </tr>\n",
              "    <tr>\n",
              "      <th>56</th>\n",
              "      <td>K. Muralimohana Rao</td>\n",
              "      <td>10</td>\n",
              "    </tr>\n",
              "    <tr>\n",
              "      <th>57</th>\n",
              "      <td>Pankaj Parashar</td>\n",
              "      <td>10</td>\n",
              "    </tr>\n",
              "  </tbody>\n",
              "</table>\n",
              "</div>"
            ],
            "text/plain": [
              "                       Names  name_count\n",
              "0               David Dhawan          78\n",
              "1               Mahesh Bhatt          70\n",
              "2            Ram Gopal Varma          60\n",
              "3               Vikram Bhatt          58\n",
              "4       Hrishikesh Mukherjee          54\n",
              "5                Yash Chopra          42\n",
              "6            Basu Chatterjee          38\n",
              "7             Shakti Samanta          38\n",
              "8               Subhash Ghai          36\n",
              "9   Abbas Alibhai Burmawalla          34\n",
              "10             Shyam Benegal          34\n",
              "11                    Gulzar          32\n",
              "12            Manmohan Desai          32\n",
              "13              Raj N. Sippy          32\n",
              "14          Mahesh Manjrekar          30\n",
              "15              Priyadarshan          30\n",
              "16                Raj Kanwar          30\n",
              "17               Indra Kumar          28\n",
              "18              Rahul Rawail          28\n",
              "19                Raj Khosla          28\n",
              "20         Rajkumar Santoshi          28\n",
              "21  Ananth Narayan Mahadevan          26\n",
              "22            Anurag Kashyap          26\n",
              "23                 Dev Anand          26\n",
              "24              Harry Baweja          26\n",
              "25        K. Raghavendra Rao          26\n",
              "26             Rakesh Roshan          26\n",
              "27               Vijay Anand          26\n",
              "28              Anees Bazmee          24\n",
              "29               Anil Sharma          24\n",
              "30              Guddu Dhanoa          24\n",
              "31         Madhur Bhandarkar          24\n",
              "32           Nagesh Kukunoor          24\n",
              "33               Prakash Jha          24\n",
              "34             Prakash Mehra          24\n",
              "35              Rohit Shetty          24\n",
              "36            Satish Kaushik          24\n",
              "37               Umesh Mehra          24\n",
              "38           Govind Nihalani          22\n",
              "39               Ketan Mehta          22\n",
              "40                Mohit Suri          22\n",
              "41             Nasir Hussain          22\n",
              "42        Pramod Chakravorty          22\n",
              "43              Sanjay Gupta          22\n",
              "44                 Bimal Roy          20\n",
              "45              Hansal Mehta          20\n",
              "46             J. Om Prakash          20\n",
              "47                J.P. Dutta          20\n",
              "48               Mehul Kumar          20\n",
              "49                N. Chandra          20\n",
              "50                Raj Kapoor          20\n",
              "51             Sudhir Mishra          20\n",
              "52          Tigmanshu Dhulia          20\n",
              "53           Vishal Bhardwaj          20\n",
              "54         Rama Rao Tatineni          17\n",
              "55                K. Bapaiah          10\n",
              "56       K. Muralimohana Rao          10\n",
              "57           Pankaj Parashar          10"
            ]
          },
          "metadata": {
            "tags": []
          },
          "execution_count": 16
        }
      ]
    },
    {
      "cell_type": "markdown",
      "metadata": {
        "id": "qBkD6tquQcjc",
        "colab_type": "text"
      },
      "source": [
        "### 5. a. For each year, count the number of movies in that year that had only female actors."
      ]
    },
    {
      "cell_type": "code",
      "metadata": {
        "id": "mi8uPWltN4te",
        "colab_type": "code",
        "outputId": "072bf342-0f57-4aca-be85-bfa6711a31f6",
        "colab": {
          "base_uri": "https://localhost:8080/",
          "height": 136
        }
      },
      "source": [
        "pd.read_sql_query(\"select substr(m.year,-4,4) Year, count(*) NoOfMovies from movie m where not exists (select * from Person p, M_Cast mc where trim(p.pid) = trim(mc.pid) and mc.mid = m.mid and p.gender not like 'F') group by Year;\",conn)"
      ],
      "execution_count": 0,
      "outputs": [
        {
          "output_type": "execute_result",
          "data": {
            "text/html": [
              "<div>\n",
              "<style scoped>\n",
              "    .dataframe tbody tr th:only-of-type {\n",
              "        vertical-align: middle;\n",
              "    }\n",
              "\n",
              "    .dataframe tbody tr th {\n",
              "        vertical-align: top;\n",
              "    }\n",
              "\n",
              "    .dataframe thead th {\n",
              "        text-align: right;\n",
              "    }\n",
              "</style>\n",
              "<table border=\"1\" class=\"dataframe\">\n",
              "  <thead>\n",
              "    <tr style=\"text-align: right;\">\n",
              "      <th></th>\n",
              "      <th>Year</th>\n",
              "      <th>NoOfMovies</th>\n",
              "    </tr>\n",
              "  </thead>\n",
              "  <tbody>\n",
              "    <tr>\n",
              "      <th>0</th>\n",
              "      <td>2009</td>\n",
              "      <td>1</td>\n",
              "    </tr>\n",
              "    <tr>\n",
              "      <th>1</th>\n",
              "      <td>2012</td>\n",
              "      <td>1</td>\n",
              "    </tr>\n",
              "    <tr>\n",
              "      <th>2</th>\n",
              "      <td>2018</td>\n",
              "      <td>1</td>\n",
              "    </tr>\n",
              "  </tbody>\n",
              "</table>\n",
              "</div>"
            ],
            "text/plain": [
              "   Year  NoOfMovies\n",
              "0  2009           1\n",
              "1  2012           1\n",
              "2  2018           1"
            ]
          },
          "metadata": {
            "tags": []
          },
          "execution_count": 10
        }
      ]
    },
    {
      "cell_type": "markdown",
      "metadata": {
        "id": "ZFicYuj3WhGU",
        "colab_type": "text"
      },
      "source": [
        "### 5. b. Now include a small change: report for each year the percentage of movies in that year with only female actors, and the total number of movies made that year. For example, one answer will be: 1990 31.81 13522 meaning that in 1990 there were 13,522 movies, and 31.81% had only female actors. You do not need to round your answer."
      ]
    },
    {
      "cell_type": "code",
      "metadata": {
        "id": "RxYjBOlgSAj0",
        "colab_type": "code",
        "outputId": "53798cf7-b5b2-476b-8d91-22ddf97deb67",
        "colab": {
          "base_uri": "https://localhost:8080/",
          "height": 136
        }
      },
      "source": [
        "pd.read_sql_query(\"select table1.year_table1, table1.year_count*100.00/table2.year_count as Percentage, table2.year_count as TotalMovies from (select\\\n",
        "      substr(m.year,-4,4) as year_table1, count(*) as year_count from movie m where not exists (select * from person p, m_cast mc where trim(p.pid) = trim(mc.pid)\\\n",
        "      and mc.mid = m.mid and p.gender!='F') group by year_table1) table1 , (select substr(m.year,-4,4) as year_table2, count(*) as year_count from movie m group by year_table2)\\\n",
        "      table2 where table1.year_table1=table2.year_table2;\",conn)"
      ],
      "execution_count": 0,
      "outputs": [
        {
          "output_type": "execute_result",
          "data": {
            "text/html": [
              "<div>\n",
              "<style scoped>\n",
              "    .dataframe tbody tr th:only-of-type {\n",
              "        vertical-align: middle;\n",
              "    }\n",
              "\n",
              "    .dataframe tbody tr th {\n",
              "        vertical-align: top;\n",
              "    }\n",
              "\n",
              "    .dataframe thead th {\n",
              "        text-align: right;\n",
              "    }\n",
              "</style>\n",
              "<table border=\"1\" class=\"dataframe\">\n",
              "  <thead>\n",
              "    <tr style=\"text-align: right;\">\n",
              "      <th></th>\n",
              "      <th>year_table1</th>\n",
              "      <th>Percentage</th>\n",
              "      <th>TotalMovies</th>\n",
              "    </tr>\n",
              "  </thead>\n",
              "  <tbody>\n",
              "    <tr>\n",
              "      <th>0</th>\n",
              "      <td>2009</td>\n",
              "      <td>0.909091</td>\n",
              "      <td>110</td>\n",
              "    </tr>\n",
              "    <tr>\n",
              "      <th>1</th>\n",
              "      <td>2012</td>\n",
              "      <td>0.900901</td>\n",
              "      <td>111</td>\n",
              "    </tr>\n",
              "    <tr>\n",
              "      <th>2</th>\n",
              "      <td>2018</td>\n",
              "      <td>0.961538</td>\n",
              "      <td>104</td>\n",
              "    </tr>\n",
              "  </tbody>\n",
              "</table>\n",
              "</div>"
            ],
            "text/plain": [
              "  year_table1  Percentage  TotalMovies\n",
              "0        2009    0.909091          110\n",
              "1        2012    0.900901          111\n",
              "2        2018    0.961538          104"
            ]
          },
          "metadata": {
            "tags": []
          },
          "execution_count": 16
        }
      ]
    },
    {
      "cell_type": "markdown",
      "metadata": {
        "id": "Y3eTlwp2qpZ0",
        "colab_type": "text"
      },
      "source": [
        "### 6. Find the film(s) with the largest cast. Return the movie title and the size of the cast. By \"cast size\" we mean the number of distinct actors that played in that movie: if an actor played multiple roles, or if it simply occurs multiple times in casts, we still count her/him only once."
      ]
    },
    {
      "cell_type": "code",
      "metadata": {
        "id": "FluO9StgTv6W",
        "colab_type": "code",
        "outputId": "5b1c3556-eb92-4894-f825-a331c0412574",
        "colab": {
          "base_uri": "https://localhost:8080/",
          "height": 77
        }
      },
      "source": [
        "pd.read_sql_query(\"select m.title Movie_Name, count(distinct mc.PID) as Cast_Size from Movie m join M_Cast mc on m.mid=mc.mid group by m.mid order by Cast_Size desc limit 1;\",conn)"
      ],
      "execution_count": 0,
      "outputs": [
        {
          "output_type": "execute_result",
          "data": {
            "text/html": [
              "<div>\n",
              "<style scoped>\n",
              "    .dataframe tbody tr th:only-of-type {\n",
              "        vertical-align: middle;\n",
              "    }\n",
              "\n",
              "    .dataframe tbody tr th {\n",
              "        vertical-align: top;\n",
              "    }\n",
              "\n",
              "    .dataframe thead th {\n",
              "        text-align: right;\n",
              "    }\n",
              "</style>\n",
              "<table border=\"1\" class=\"dataframe\">\n",
              "  <thead>\n",
              "    <tr style=\"text-align: right;\">\n",
              "      <th></th>\n",
              "      <th>Movie_Name</th>\n",
              "      <th>Cast_Size</th>\n",
              "    </tr>\n",
              "  </thead>\n",
              "  <tbody>\n",
              "    <tr>\n",
              "      <th>0</th>\n",
              "      <td>Ocean's Eight</td>\n",
              "      <td>238</td>\n",
              "    </tr>\n",
              "  </tbody>\n",
              "</table>\n",
              "</div>"
            ],
            "text/plain": [
              "      Movie_Name  Cast_Size\n",
              "0  Ocean's Eight        238"
            ]
          },
          "metadata": {
            "tags": []
          },
          "execution_count": 21
        }
      ]
    },
    {
      "cell_type": "markdown",
      "metadata": {
        "id": "d_cP-ksMulUf",
        "colab_type": "text"
      },
      "source": [
        "### 7. A decade is a sequence of 10 consecutive years. For example, say in your database you have movie information starting from 1965. Then the first decade is 1965, 1966, ..., 1974; the second one is 1967, 1968, ..., 1976 and so on. Find the decade D with the largest number of films and the total number of films in D."
      ]
    },
    {
      "cell_type": "code",
      "metadata": {
        "id": "RxMbxLM2upFT",
        "colab_type": "code",
        "outputId": "f186cfdb-4b21-4a25-d720-2ed90e091fbe",
        "colab": {
          "base_uri": "https://localhost:8080/",
          "height": 77
        }
      },
      "source": [
        "pd.read_sql_query(\"select table1.year as Starting_Year, table1.year+9 Ending_Year,  count(*) as Number_of_movies from \\\n",
        "                  (select distinct m.year from movie m) table1, movie m1 where table1.year <= m1.year\\\n",
        "                  and m1.year < table1.year+10 group by table1.year having not exists (select table2.year from (select distinct m2.year from movie m2) table2, movie m3 \\\n",
        "                  where table2.year <= m3.year and m3.year < table2.year+10 group by table2.year having count(m3.mid) > count(m1.mid));\",conn)"
      ],
      "execution_count": 0,
      "outputs": [
        {
          "output_type": "execute_result",
          "data": {
            "text/html": [
              "<div>\n",
              "<style scoped>\n",
              "    .dataframe tbody tr th:only-of-type {\n",
              "        vertical-align: middle;\n",
              "    }\n",
              "\n",
              "    .dataframe tbody tr th {\n",
              "        vertical-align: top;\n",
              "    }\n",
              "\n",
              "    .dataframe thead th {\n",
              "        text-align: right;\n",
              "    }\n",
              "</style>\n",
              "<table border=\"1\" class=\"dataframe\">\n",
              "  <thead>\n",
              "    <tr style=\"text-align: right;\">\n",
              "      <th></th>\n",
              "      <th>Starting_Year</th>\n",
              "      <th>Ending_Year</th>\n",
              "      <th>Number_of_movies</th>\n",
              "    </tr>\n",
              "  </thead>\n",
              "  <tbody>\n",
              "    <tr>\n",
              "      <th>0</th>\n",
              "      <td>2008</td>\n",
              "      <td>2017</td>\n",
              "      <td>1128</td>\n",
              "    </tr>\n",
              "  </tbody>\n",
              "</table>\n",
              "</div>"
            ],
            "text/plain": [
              "  Starting_Year  Ending_Year  Number_of_movies\n",
              "0          2008         2017              1128"
            ]
          },
          "metadata": {
            "tags": []
          },
          "execution_count": 16
        }
      ]
    },
    {
      "cell_type": "markdown",
      "metadata": {
        "id": "FfYdcWjDl3uM",
        "colab_type": "text"
      },
      "source": [
        "This means that the decade D started from 2008-2017"
      ]
    },
    {
      "cell_type": "markdown",
      "metadata": {
        "id": "ZkYeFxkcEwLd",
        "colab_type": "text"
      },
      "source": [
        "### 8. Find the actors that were never unemployed for more than 3 years at a stretch. (Assume that the actors remain unemployed between two consecutive movies)."
      ]
    },
    {
      "cell_type": "code",
      "metadata": {
        "id": "MO8MCXf7SB86",
        "colab_type": "code",
        "outputId": "b1b990d0-b282-4f63-90e6-a4117a9ca61a",
        "colab": {
          "base_uri": "https://localhost:8080/",
          "height": 402
        }
      },
      "source": [
        "pd.read_sql_query(\"select p1.Name from Person p1 where p1.pid not in (select distinct(mc1.pid) from M_Cast as mc1 join Movie as m1 on mc1.mid=m1.mid where\\\n",
        "      exists(select mc2.mid from M_Cast as mc2 join Movie as m2 on mc2.mid=m2.mid where trim(mc1.PID) = trim(mc2.PID) and (substr(m2.year,-4,4) - 3) > substr(m1.year,-4,4) and\\\n",
        "      not exists(select trim(mc3.MID) from M_Cast as mc3 join Movie as m3 on mc3.mid=m3.mid where trim(mc1.PID) = trim(mc3.PID) and substr(m1.year,-4,4) < substr(m3.year,-4,4) and\\\n",
        "      substr(m3.year,-4,4) < substr(m2.year,-4,4))));\",conn)"
      ],
      "execution_count": 0,
      "outputs": [
        {
          "output_type": "execute_result",
          "data": {
            "text/html": [
              "<div>\n",
              "<style scoped>\n",
              "    .dataframe tbody tr th:only-of-type {\n",
              "        vertical-align: middle;\n",
              "    }\n",
              "\n",
              "    .dataframe tbody tr th {\n",
              "        vertical-align: top;\n",
              "    }\n",
              "\n",
              "    .dataframe thead th {\n",
              "        text-align: right;\n",
              "    }\n",
              "</style>\n",
              "<table border=\"1\" class=\"dataframe\">\n",
              "  <thead>\n",
              "    <tr style=\"text-align: right;\">\n",
              "      <th></th>\n",
              "      <th>Name</th>\n",
              "    </tr>\n",
              "  </thead>\n",
              "  <tbody>\n",
              "    <tr>\n",
              "      <th>0</th>\n",
              "      <td>Christian Bale</td>\n",
              "    </tr>\n",
              "    <tr>\n",
              "      <th>1</th>\n",
              "      <td>Cate Blanchett</td>\n",
              "    </tr>\n",
              "    <tr>\n",
              "      <th>2</th>\n",
              "      <td>Benedict Cumberbatch</td>\n",
              "    </tr>\n",
              "    <tr>\n",
              "      <th>3</th>\n",
              "      <td>Naomie Harris</td>\n",
              "    </tr>\n",
              "    <tr>\n",
              "      <th>4</th>\n",
              "      <td>Andy Serkis</td>\n",
              "    </tr>\n",
              "    <tr>\n",
              "      <th>...</th>\n",
              "      <td>...</td>\n",
              "    </tr>\n",
              "    <tr>\n",
              "      <th>38280</th>\n",
              "      <td>Kannan</td>\n",
              "    </tr>\n",
              "    <tr>\n",
              "      <th>38281</th>\n",
              "      <td>Adrian Fulle</td>\n",
              "    </tr>\n",
              "    <tr>\n",
              "      <th>38282</th>\n",
              "      <td>Gulshan Kumar</td>\n",
              "    </tr>\n",
              "    <tr>\n",
              "      <th>38283</th>\n",
              "      <td>Iqbal</td>\n",
              "    </tr>\n",
              "    <tr>\n",
              "      <th>38284</th>\n",
              "      <td>Sushma Shiromani</td>\n",
              "    </tr>\n",
              "  </tbody>\n",
              "</table>\n",
              "<p>38285 rows × 1 columns</p>\n",
              "</div>"
            ],
            "text/plain": [
              "                        Name\n",
              "0             Christian Bale\n",
              "1             Cate Blanchett\n",
              "2       Benedict Cumberbatch\n",
              "3              Naomie Harris\n",
              "4                Andy Serkis\n",
              "...                      ...\n",
              "38280                 Kannan\n",
              "38281           Adrian Fulle\n",
              "38282          Gulshan Kumar\n",
              "38283                  Iqbal\n",
              "38284       Sushma Shiromani\n",
              "\n",
              "[38285 rows x 1 columns]"
            ]
          },
          "metadata": {
            "tags": []
          },
          "execution_count": 15
        }
      ]
    },
    {
      "cell_type": "markdown",
      "metadata": {
        "id": "iXbk5vYzUGqq",
        "colab_type": "text"
      },
      "source": [
        "### 9. Find all the actors that made more movies with Yash Chopra than any other director."
      ]
    },
    {
      "cell_type": "code",
      "metadata": {
        "id": "08otDf-yXcHu",
        "colab_type": "code",
        "outputId": "35e81ba2-4b06-49ac-8ff0-317f27bfb786",
        "colab": {
          "base_uri": "https://localhost:8080/",
          "height": 402
        }
      },
      "source": [
        "pd.read_sql_query(\"select table1.name Name,table1.no_of_dirs NumberOfMovies from \\\n",
        "                             (select p1.name,mc.mid,m.title,count(p2.name) no_of_dirs from Person p1 join M_cast mc on p1.pid = trim(mc.pid)\\\n",
        "                              join Movie m on m.mid=mc.mid join M_director md on md.mid=m.mid join person p2 on md.pid=p2.pid where p2.name like 'Yash Chopra'\\\n",
        "                              group by p1.name having count(p2.name)> (select max(no_of_dirs) from (select p3.name ,count(trim(p4.name)) no_of_dirs from Person p3\\\n",
        "                              join M_cast mc2 on p3.pid = trim(mc2.pid) join Movie m2 on m2.mid=mc2.mid join M_director md2 on md2.mid=m2.mid\\\n",
        "                              join person p4 on md2.pid=p4.pid where trim(p4.name) not like 'Yash Chopra' group by p3.name,trim(p4.name) ) table2 group by table2.name)) table1\",conn)"
      ],
      "execution_count": 0,
      "outputs": [
        {
          "output_type": "execute_result",
          "data": {
            "text/html": [
              "<div>\n",
              "<style scoped>\n",
              "    .dataframe tbody tr th:only-of-type {\n",
              "        vertical-align: middle;\n",
              "    }\n",
              "\n",
              "    .dataframe tbody tr th {\n",
              "        vertical-align: top;\n",
              "    }\n",
              "\n",
              "    .dataframe thead th {\n",
              "        text-align: right;\n",
              "    }\n",
              "</style>\n",
              "<table border=\"1\" class=\"dataframe\">\n",
              "  <thead>\n",
              "    <tr style=\"text-align: right;\">\n",
              "      <th></th>\n",
              "      <th>Name</th>\n",
              "      <th>NumberOfMovies</th>\n",
              "    </tr>\n",
              "  </thead>\n",
              "  <tbody>\n",
              "    <tr>\n",
              "      <th>0</th>\n",
              "      <td>A.K. Hangal</td>\n",
              "      <td>3</td>\n",
              "    </tr>\n",
              "    <tr>\n",
              "      <th>1</th>\n",
              "      <td>Achala Sachdev</td>\n",
              "      <td>4</td>\n",
              "    </tr>\n",
              "    <tr>\n",
              "      <th>2</th>\n",
              "      <td>Amarinder Sodhi</td>\n",
              "      <td>2</td>\n",
              "    </tr>\n",
              "    <tr>\n",
              "      <th>3</th>\n",
              "      <td>Amitabh Bachchan</td>\n",
              "      <td>6</td>\n",
              "    </tr>\n",
              "    <tr>\n",
              "      <th>4</th>\n",
              "      <td>Ananth Narayan Mahadevan</td>\n",
              "      <td>2</td>\n",
              "    </tr>\n",
              "    <tr>\n",
              "      <th>...</th>\n",
              "      <td>...</td>\n",
              "      <td>...</td>\n",
              "    </tr>\n",
              "    <tr>\n",
              "      <th>83</th>\n",
              "      <td>Rajendra Kumar</td>\n",
              "      <td>2</td>\n",
              "    </tr>\n",
              "    <tr>\n",
              "      <th>84</th>\n",
              "      <td>Rishi Kapoor</td>\n",
              "      <td>4</td>\n",
              "    </tr>\n",
              "    <tr>\n",
              "      <th>85</th>\n",
              "      <td>Shashi Kapoor</td>\n",
              "      <td>7</td>\n",
              "    </tr>\n",
              "    <tr>\n",
              "      <th>86</th>\n",
              "      <td>Sunil Dutt</td>\n",
              "      <td>2</td>\n",
              "    </tr>\n",
              "    <tr>\n",
              "      <th>87</th>\n",
              "      <td>Yash Chopra</td>\n",
              "      <td>2</td>\n",
              "    </tr>\n",
              "  </tbody>\n",
              "</table>\n",
              "<p>88 rows × 2 columns</p>\n",
              "</div>"
            ],
            "text/plain": [
              "                         Name  NumberOfMovies\n",
              "0                 A.K. Hangal               3\n",
              "1              Achala Sachdev               4\n",
              "2             Amarinder Sodhi               2\n",
              "3            Amitabh Bachchan               6\n",
              "4    Ananth Narayan Mahadevan               2\n",
              "..                        ...             ...\n",
              "83             Rajendra Kumar               2\n",
              "84               Rishi Kapoor               4\n",
              "85              Shashi Kapoor               7\n",
              "86                 Sunil Dutt               2\n",
              "87                Yash Chopra               2\n",
              "\n",
              "[88 rows x 2 columns]"
            ]
          },
          "metadata": {
            "tags": []
          },
          "execution_count": 19
        }
      ]
    },
    {
      "cell_type": "markdown",
      "metadata": {
        "id": "7ZWIl1IvE8iv",
        "colab_type": "text"
      },
      "source": [
        "### 10. The Shahrukh number of an actor is the length of the shortest path between the actor and Shahrukh Khan in the \"co-acting\" graph. That is, Shahrukh Khan has Shahrukh number 0; all actors who acted in the same film as Shahrukh have Shahrukh number 1; all actors who acted in the same film as some actor with Shahrukh number 1 have Shahrukh number 2, etc. Return all actors whose Shahrukh number is 2."
      ]
    },
    {
      "cell_type": "code",
      "metadata": {
        "id": "h24AGmSd22R4",
        "colab_type": "code",
        "outputId": "27b5970a-a633-49f5-ffff-572148da2a75",
        "colab": {
          "base_uri": "https://localhost:8080/",
          "height": 77
        }
      },
      "source": [
        "pd.read_sql_query(\"select p.Name from person p where p.Name like '%shah rukh khan%'\",conn)"
      ],
      "execution_count": 0,
      "outputs": [
        {
          "output_type": "execute_result",
          "data": {
            "text/html": [
              "<div>\n",
              "<style scoped>\n",
              "    .dataframe tbody tr th:only-of-type {\n",
              "        vertical-align: middle;\n",
              "    }\n",
              "\n",
              "    .dataframe tbody tr th {\n",
              "        vertical-align: top;\n",
              "    }\n",
              "\n",
              "    .dataframe thead th {\n",
              "        text-align: right;\n",
              "    }\n",
              "</style>\n",
              "<table border=\"1\" class=\"dataframe\">\n",
              "  <thead>\n",
              "    <tr style=\"text-align: right;\">\n",
              "      <th></th>\n",
              "      <th>Name</th>\n",
              "    </tr>\n",
              "  </thead>\n",
              "  <tbody>\n",
              "    <tr>\n",
              "      <th>0</th>\n",
              "      <td>Shah Rukh Khan</td>\n",
              "    </tr>\n",
              "  </tbody>\n",
              "</table>\n",
              "</div>"
            ],
            "text/plain": [
              "              Name\n",
              "0   Shah Rukh Khan"
            ]
          },
          "metadata": {
            "tags": []
          },
          "execution_count": 8
        }
      ]
    },
    {
      "cell_type": "code",
      "metadata": {
        "id": "QhsW732VSCVM",
        "colab_type": "code",
        "outputId": "f13baee8-e853-47ff-dc8f-5de548a1f558",
        "colab": {
          "base_uri": "https://localhost:8080/",
          "height": 402
        }
      },
      "source": [
        "pd.read_sql_query(\"select distinct trim(p4.name) ActorNames from Person p4\\\n",
        "                              join M_cast mc4 on p4.pid=trim(mc4.pid)\\\n",
        "                              join Movie m4 on m4.mid=mc4.mid and p4.name not like '%Shah Rukh Khan%'\\\n",
        "                              and m4.title in (select distinct m3.title from Person p3\\\n",
        "                              join M_cast mc3 on p3.pid=trim(mc3.pid) and trim(p3.name) = p3.name \\\n",
        "                              join Movie m3 on m3.mid=mc3.mid and p3.name in\\\n",
        "                              (select distinct p2.name from Person p2\\\n",
        "                              join M_cast mc2 on p2.pid=trim(mc2.pid)\\\n",
        "                              join movie m2 on m2.mid=mc2.mid and p2.name not like '%Shah Rukh Khan%'\\\n",
        "                              and m2.title in (select distinct m1.title from Person p1\\\n",
        "                              join M_cast mc1 on p1.pid=trim(mc1.pid) and p1.name like '%Shah Rukh Khan%' \\\n",
        "                              join Movie m1 on m1.mid=mc1.mid)));\",conn)"
      ],
      "execution_count": 0,
      "outputs": [
        {
          "output_type": "execute_result",
          "data": {
            "text/html": [
              "<div>\n",
              "<style scoped>\n",
              "    .dataframe tbody tr th:only-of-type {\n",
              "        vertical-align: middle;\n",
              "    }\n",
              "\n",
              "    .dataframe tbody tr th {\n",
              "        vertical-align: top;\n",
              "    }\n",
              "\n",
              "    .dataframe thead th {\n",
              "        text-align: right;\n",
              "    }\n",
              "</style>\n",
              "<table border=\"1\" class=\"dataframe\">\n",
              "  <thead>\n",
              "    <tr style=\"text-align: right;\">\n",
              "      <th></th>\n",
              "      <th>ActorNames</th>\n",
              "    </tr>\n",
              "  </thead>\n",
              "  <tbody>\n",
              "    <tr>\n",
              "      <th>0</th>\n",
              "      <td>Sheeba Chaddha</td>\n",
              "    </tr>\n",
              "    <tr>\n",
              "      <th>1</th>\n",
              "      <td>Rishi Kapoor</td>\n",
              "    </tr>\n",
              "    <tr>\n",
              "      <th>2</th>\n",
              "      <td>Jeetendra Shastri</td>\n",
              "    </tr>\n",
              "    <tr>\n",
              "      <th>3</th>\n",
              "      <td>Yuvraj Sachdev</td>\n",
              "    </tr>\n",
              "    <tr>\n",
              "      <th>4</th>\n",
              "      <td>Nirmal Rishi</td>\n",
              "    </tr>\n",
              "    <tr>\n",
              "      <th>...</th>\n",
              "      <td>...</td>\n",
              "    </tr>\n",
              "    <tr>\n",
              "      <th>16160</th>\n",
              "      <td>Dhruv Shetty</td>\n",
              "    </tr>\n",
              "    <tr>\n",
              "      <th>16161</th>\n",
              "      <td>Mohini Manik</td>\n",
              "    </tr>\n",
              "    <tr>\n",
              "      <th>16162</th>\n",
              "      <td>Kamal Maharshi</td>\n",
              "    </tr>\n",
              "    <tr>\n",
              "      <th>16163</th>\n",
              "      <td>Hayley Cleghorn</td>\n",
              "    </tr>\n",
              "    <tr>\n",
              "      <th>16164</th>\n",
              "      <td>Nirvasha Jithoo</td>\n",
              "    </tr>\n",
              "  </tbody>\n",
              "</table>\n",
              "<p>16165 rows × 1 columns</p>\n",
              "</div>"
            ],
            "text/plain": [
              "              ActorNames\n",
              "0         Sheeba Chaddha\n",
              "1           Rishi Kapoor\n",
              "2      Jeetendra Shastri\n",
              "3         Yuvraj Sachdev\n",
              "4           Nirmal Rishi\n",
              "...                  ...\n",
              "16160       Dhruv Shetty\n",
              "16161       Mohini Manik\n",
              "16162     Kamal Maharshi\n",
              "16163    Hayley Cleghorn\n",
              "16164    Nirvasha Jithoo\n",
              "\n",
              "[16165 rows x 1 columns]"
            ]
          },
          "metadata": {
            "tags": []
          },
          "execution_count": 18
        }
      ]
    }
  ]
}